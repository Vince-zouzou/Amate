{
 "cells": [
  {
   "cell_type": "code",
   "execution_count": null,
   "id": "50a44068",
   "metadata": {},
   "outputs": [],
   "source": []
  },
  {
   "cell_type": "markdown",
   "id": "e80a21a5",
   "metadata": {},
   "source": [
    "Workshop的讲师和advisory board的成员都给MSBA的学生提供了很多建议,行业咨询,以及职业发展机会。\n",
    "其中的机会包括: Mr.Aki 给Ree提供了宝贵的在他的公司实习的机会,并且现在已经成功转为了正式的员工,同时也refered SC的成员之一的Vince Yihe Zou进入了top-tier的Boutique consulting firm - AlixPartners 实习的机会, 这也成为了Vince现在能够进入顶级咨询公司工作的敲门砖.此外,"
   ]
  }
 ],
 "metadata": {
  "kernelspec": {
   "display_name": ".venv",
   "language": "python",
   "name": "python3"
  },
  "language_info": {
   "name": "python",
   "version": "3.10.12"
  }
 },
 "nbformat": 4,
 "nbformat_minor": 5
}
